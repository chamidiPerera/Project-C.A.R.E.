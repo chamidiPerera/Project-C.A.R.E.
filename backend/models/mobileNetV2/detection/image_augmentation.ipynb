{
 "cells": [
  {
   "cell_type": "code",
   "execution_count": 13,
   "metadata": {},
   "outputs": [],
   "source": [
    "import cv2\n",
    "import numpy as np\n",
    "import os"
   ]
  },
  {
   "cell_type": "code",
   "execution_count": 14,
   "metadata": {},
   "outputs": [],
   "source": [
    "# Path to my dataset\n",
    "dataset_path = \"/Users/chamidiperera/Downloads\""
   ]
  },
  {
   "cell_type": "code",
   "execution_count": 15,
   "metadata": {},
   "outputs": [],
   "source": [
    "# Creating a directory to save augmented images\n",
    "output_path = \"/Users/chamidiperera/Documents/FYP Codes/datasets/SkinAndEye/augmentedImages/train/eye\"\n",
    "os.makedirs(output_path, exist_ok=True)"
   ]
  },
  {
   "cell_type": "code",
   "execution_count": 23,
   "metadata": {},
   "outputs": [
    {
     "name": "stdout",
     "output_type": "stream",
     "text": [
      "Could not read image: .DS_Store\n",
      "Could not read image: .localized\n"
     ]
    }
   ],
   "source": [
    "# Load each image from the dataset\n",
    "for filename in os.listdir(dataset_path):\n",
    "    image = cv2.imread(os.path.join(dataset_path, filename))\n",
    "    \n",
    "    if image is None:\n",
    "        print(f\"Could not read image: {filename}\")\n",
    "        continue\n",
    "    \n",
    "    # Apply rotation augmentation\n",
    "    augmented_images = []\n",
    "    \n",
    "    # Rotation\n",
    "    for angle in [0, 30, 60, 90]:\n",
    "        rotated = cv2.rotate(image, angle)\n",
    "        augmented_images.append(rotated)\n",
    "    \n",
    "    # Flip horizontally and vertically\n",
    "    flipped_horizontally = cv2.flip(image, 0)\n",
    "    flipped_vertically = cv2.flip(image, 1)\n",
    "    augmented_images.extend([flipped_horizontally, flipped_vertically])\n",
    "    \n",
    "    # Scaling\n",
    "    scaled_down = cv2.resize(image, (0, 0), fx=0.5, fy=0.5)\n",
    "    scaled_up = cv2.resize(image, (0, 0), fx=1.5, fy=1.5)\n",
    "    augmented_images.extend([scaled_down, scaled_up])\n",
    "    \n",
    "    # Save augmented images\n",
    "    base_filename = os.path.splitext(filename)[0]\n",
    "    for idx, augmented_image in enumerate(augmented_images):\n",
    "        output_filename = f\"{base_filename}_aug{idx}.jpg\"\n",
    "        \n",
    "        # Convert BGR to RGB before saving (if using matplotlib to view)\n",
    "        # rgb_image = cv2.cvtColor(augmented_image, cv2.COLOR_BGR2RGB)\n",
    "        \n",
    "        cv2.imwrite(os.path.join(output_path, output_filename), augmented_image)"
   ]
  }
 ],
 "metadata": {
  "kernelspec": {
   "display_name": "Python 3",
   "language": "python",
   "name": "python3"
  },
  "language_info": {
   "codemirror_mode": {
    "name": "ipython",
    "version": 3
   },
   "file_extension": ".py",
   "mimetype": "text/x-python",
   "name": "python",
   "nbconvert_exporter": "python",
   "pygments_lexer": "ipython3",
   "version": "3.11.7"
  }
 },
 "nbformat": 4,
 "nbformat_minor": 2
}
