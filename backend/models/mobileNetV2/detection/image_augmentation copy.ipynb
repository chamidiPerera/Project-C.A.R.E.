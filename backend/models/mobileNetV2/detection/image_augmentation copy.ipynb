{
 "cells": [
  {
   "cell_type": "code",
   "execution_count": 1,
   "metadata": {},
   "outputs": [],
   "source": [
    "import cv2\n",
    "import numpy as np\n",
    "import os"
   ]
  },
  {
   "cell_type": "code",
   "execution_count": null,
   "metadata": {},
   "outputs": [],
   "source": [
    "# Path to your dataset\n",
    "dataset_path = \"/Users/chamidiperera/Downloads/ImagesForAugmentation\""
   ]
  },
  {
   "cell_type": "code",
   "execution_count": null,
   "metadata": {},
   "outputs": [],
   "source": [
    "# Create a directory to save augmented images\n",
    "output_path = \"/Users/chamidiperera/Documents/FYP Codes/datasets/SkinAndEye/augmentedImages/test\"\n",
    "os.makedirs(output_path, exist_ok=True)"
   ]
  },
  {
   "cell_type": "code",
   "execution_count": null,
   "metadata": {},
   "outputs": [],
   "source": [
    "for filename in os.listdir(dataset_path):\n",
    "    image = cv2.imread(os.path.join(dataset_path, filename))\n",
    "    \n",
    "    augmented_images = []\n",
    "    \n",
    "    # Rotation\n",
    "    for angle in [0, 30, 60, 90]:\n",
    "        rotated = cv2.rotate(image, angle)\n",
    "        augmented_images.append(rotated)\n",
    "    \n",
    "    # Flipping\n",
    "    flipped_horizontally = cv2.flip(image, 1)\n",
    "    flipped_vertically = cv2.flip(image, 0)\n",
    "    augmented_images.extend([flipped_horizontally, flipped_vertically])\n",
    "    \n",
    "    # Scaling\n",
    "    scaled_down = cv2.resize(image, (0, 0), fx=0.5, fy=0.5)\n",
    "    scaled_up = cv2.resize(image, (0, 0), fx=1.5, fy=1.5)\n",
    "    augmented_images.extend([scaled_down, scaled_up])\n",
    "    \n",
    "\n",
    "    # Save augmented images\n",
    "    base_filename = os.path.splitext(filename)[0]\n",
    "    for idx, augmented_image in enumerate(augmented_images):\n",
    "        output_filename = f\"{base_filename}_aug{idx}.jpg\"\n",
    "        cv2.imwrite(os.path.join(output_path, output_filename), augmented_image)"
   ]
  }
 ],
 "metadata": {
  "kernelspec": {
   "display_name": "Python 3",
   "language": "python",
   "name": "python3"
  },
  "language_info": {
   "codemirror_mode": {
    "name": "ipython",
    "version": 3
   },
   "file_extension": ".py",
   "mimetype": "text/x-python",
   "name": "python",
   "nbconvert_exporter": "python",
   "pygments_lexer": "ipython3",
   "version": "3.11.7"
  }
 },
 "nbformat": 4,
 "nbformat_minor": 2
}
