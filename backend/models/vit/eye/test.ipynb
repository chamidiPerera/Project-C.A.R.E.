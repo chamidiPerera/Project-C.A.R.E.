{
 "cells": [
  {
   "cell_type": "code",
   "execution_count": 1,
   "metadata": {},
   "outputs": [],
   "source": [
    "import torch\n",
    "import torchvision\n",
    "from torch import nn\n",
    "from torchvision.models import VisionTransformer\n",
    "from torch.utils.data import DataLoader\n",
    "from torchvision import datasets, transforms\n",
    "from helper_functions import set_seeds\n",
    "from going_modular.going_modular import engine\n",
    "from helper_functions import plot_loss_curves"
   ]
  },
  {
   "cell_type": "code",
   "execution_count": 2,
   "metadata": {},
   "outputs": [],
   "source": [
    "# Define the EarlyStopping callback class\n",
    "class EarlyStopping:\n",
    "    def __init__(self, patience=5, verbose=False):\n",
    "        self.patience = patience\n",
    "        self.verbose = verbose\n",
    "        self.counter = 0\n",
    "        self.best_val_loss = None\n",
    "        self.early_stop = False\n",
    "\n",
    "    def __call__(self, val_loss):\n",
    "        if self.best_val_loss is None:\n",
    "            self.best_val_loss = val_loss\n",
    "        elif val_loss > self.best_val_loss:\n",
    "            self.counter += 1\n",
    "            if self.verbose:\n",
    "                print(f'INFO: Validation loss did not improve for {self.counter} epoch(s).')\n",
    "            if self.counter >= self.patience:\n",
    "                self.early_stop = True\n",
    "        else:\n",
    "            self.best_val_loss = val_loss\n",
    "            self.counter = 0"
   ]
  },
  {
   "cell_type": "code",
   "execution_count": 3,
   "metadata": {},
   "outputs": [],
   "source": [
    "# Function to create data loaders\n",
    "def create_dataloaders(train_dir: str, test_dir: str, transform: transforms.Compose, batch_size: int, num_workers: int):\n",
    "    train_data = datasets.ImageFolder(train_dir, transform=transform)\n",
    "    test_data = datasets.ImageFolder(test_dir, transform=transform)\n",
    "\n",
    "    train_dataloader = DataLoader(train_data, batch_size=batch_size, shuffle=True, num_workers=num_workers, pin_memory=True)\n",
    "    test_dataloader = DataLoader(test_data, batch_size=batch_size, shuffle=False, num_workers=num_workers, pin_memory=True)\n",
    "\n",
    "    return train_dataloader, test_dataloader, train_data.classes\n"
   ]
  },
  {
   "cell_type": "code",
   "execution_count": 4,
   "metadata": {},
   "outputs": [],
   "source": [
    "# Device setup\n",
    "device = \"cuda\" if torch.cuda.is_available() else \"cpu\"\n"
   ]
  },
  {
   "cell_type": "code",
   "execution_count": 5,
   "metadata": {},
   "outputs": [],
   "source": [
    "# Setup directory paths to train and test images\n",
    "train_dir = '/Users/sandundesilva/Downloads/Datasets/train'\n",
    "test_dir = '/Users/sandundesilva/Downloads/Datasets/test'"
   ]
  },
  {
   "cell_type": "code",
   "execution_count": 6,
   "metadata": {},
   "outputs": [],
   "source": [
    "# Define class names\n",
    "class_names = ['Blepharitis', 'Conjunctivitis', 'Entropion', 'EyelidTumor', 'HealthyEye', 'Mastopathy', 'NuclearSclerosis', 'PigmentedKeratitis']"
   ]
  },
  {
   "cell_type": "code",
   "execution_count": 7,
   "metadata": {},
   "outputs": [],
   "source": [
    "# Define transforms\n",
    "pretrained_vit_transforms = transforms.Compose([\n",
    "    transforms.Resize(256),\n",
    "    transforms.CenterCrop(224),\n",
    "    transforms.ToTensor(),\n",
    "    transforms.Normalize(mean=[0.485, 0.456, 0.406], std=[0.229, 0.224, 0.225])\n",
    "])"
   ]
  },
  {
   "cell_type": "code",
   "execution_count": 8,
   "metadata": {},
   "outputs": [],
   "source": [
    "# Create data loaders\n",
    "train_dataloader, test_dataloader, _ = create_dataloaders(train_dir=train_dir,\n",
    "                                                          test_dir=test_dir,\n",
    "                                                          transform=pretrained_vit_transforms,\n",
    "                                                          batch_size=32,\n",
    "                                                          num_workers=4)"
   ]
  },
  {
   "cell_type": "code",
   "execution_count": 9,
   "metadata": {},
   "outputs": [
    {
     "name": "stderr",
     "output_type": "stream",
     "text": [
      "/Library/Frameworks/Python.framework/Versions/3.9/lib/python3.9/site-packages/torchvision/models/_utils.py:208: UserWarning: The parameter 'pretrained' is deprecated since 0.13 and may be removed in the future, please use 'weights' instead.\n",
      "  warnings.warn(\n",
      "/Library/Frameworks/Python.framework/Versions/3.9/lib/python3.9/site-packages/torchvision/models/_utils.py:223: UserWarning: Arguments other than a weight enum or `None` for 'weights' are deprecated since 0.13 and may be removed in the future. The current behavior is equivalent to passing `weights=ViT_B_16_Weights.IMAGENET1K_V1`. You can also use `weights=ViT_B_16_Weights.DEFAULT` to get the most up-to-date weights.\n",
      "  warnings.warn(msg)\n"
     ]
    }
   ],
   "source": [
    "# Initialize ViT model\n",
    "pretrained_vit = torchvision.models.vit_b_16(pretrained=True).to(device)"
   ]
  },
  {
   "cell_type": "code",
   "execution_count": 10,
   "metadata": {},
   "outputs": [],
   "source": [
    "# Freeze base parameters\n",
    "for parameter in pretrained_vit.parameters():\n",
    "    parameter.requires_grad = False"
   ]
  },
  {
   "cell_type": "code",
   "execution_count": 11,
   "metadata": {},
   "outputs": [],
   "source": [
    "# Modify classifier head\n",
    "pretrained_vit.heads = nn.Linear(in_features=768, out_features=len(class_names)).to(device)\n"
   ]
  },
  {
   "cell_type": "code",
   "execution_count": 12,
   "metadata": {},
   "outputs": [],
   "source": [
    "# Create optimizer and loss function\n",
    "optimizer = torch.optim.Adam(params=pretrained_vit.parameters(), lr=1e-3)\n",
    "loss_fn = nn.CrossEntropyLoss()"
   ]
  },
  {
   "cell_type": "code",
   "execution_count": 13,
   "metadata": {},
   "outputs": [],
   "source": [
    "# Define the EarlyStopping callback\n",
    "early_stop = EarlyStopping(patience=3, verbose=True)"
   ]
  },
  {
   "cell_type": "code",
   "execution_count": 14,
   "metadata": {},
   "outputs": [],
   "source": [
    "def train_with_early_stopping(model, train_loader, val_loader, optimizer, loss_fn, epochs, device, patience):\n",
    "    early_stopping = EarlyStopping(patience=patience, verbose=True)\n",
    "    \n",
    "    for epoch in range(epochs):\n",
    "        model.train()\n",
    "        train_loss = 0.0\n",
    "        correct_train = 0\n",
    "        total_train = 0\n",
    "        for images, labels in train_loader:\n",
    "            images, labels = images.to(device), labels.to(device)\n",
    "            optimizer.zero_grad()\n",
    "            outputs = model(images)\n",
    "            loss = loss_fn(outputs, labels)\n",
    "            loss.backward()\n",
    "            optimizer.step()\n",
    "            train_loss += loss.item() * images.size(0)\n",
    "            \n",
    "            _, predicted = outputs.max(1)\n",
    "            correct_train += predicted.eq(labels).sum().item()\n",
    "            total_train += labels.size(0)\n",
    "        \n",
    "        train_loss /= len(train_loader.dataset)\n",
    "        train_accuracy = correct_train / total_train\n",
    "\n",
    "        # Validation\n",
    "        model.eval()\n",
    "        val_loss = 0.0\n",
    "        correct_val = 0\n",
    "        total_val = 0\n",
    "        with torch.no_grad():\n",
    "            for images, labels in val_loader:\n",
    "                images, labels = images.to(device), labels.to(device)\n",
    "                outputs = model(images)\n",
    "                loss = loss_fn(outputs, labels)\n",
    "                val_loss += loss.item() * images.size(0)\n",
    "                \n",
    "                _, predicted = outputs.max(1)\n",
    "                correct_val += predicted.eq(labels).sum().item()\n",
    "                total_val += labels.size(0)\n",
    "            \n",
    "            val_loss /= len(val_loader.dataset)\n",
    "            val_accuracy = correct_val / total_val\n",
    "        \n",
    "        print(f'Epoch {epoch+1}/{epochs}, Training Loss: {train_loss:.4f}, Training Accuracy: {train_accuracy:.4f}, Validation Loss: {val_loss:.4f}, Validation Accuracy: {val_accuracy:.4f}')\n",
    "\n",
    "        # Check for improvement in validation loss\n",
    "        if early_stopping is not None:\n",
    "            early_stopping(val_loss)\n",
    "            if early_stopping.early_stop:\n",
    "                print(\"Early stopping\")\n",
    "                break\n"
   ]
  },
  {
   "cell_type": "code",
   "execution_count": 15,
   "metadata": {},
   "outputs": [
    {
     "name": "stdout",
     "output_type": "stream",
     "text": [
      "Epoch 1/10, Training Loss: 1.1473, Training Accuracy: 0.5560, Validation Loss: 1.0213, Validation Accuracy: 0.6317\n",
      "Epoch 2/10, Training Loss: 0.8793, Training Accuracy: 0.6643, Validation Loss: 0.9585, Validation Accuracy: 0.6335\n",
      "Epoch 3/10, Training Loss: 0.7914, Training Accuracy: 0.6936, Validation Loss: 0.9225, Validation Accuracy: 0.6762\n",
      "Epoch 4/10, Training Loss: 0.7338, Training Accuracy: 0.7155, Validation Loss: 0.9007, Validation Accuracy: 0.6619\n",
      "Epoch 5/10, Training Loss: 0.6956, Training Accuracy: 0.7310, Validation Loss: 0.9020, Validation Accuracy: 0.6459\n",
      "INFO: Validation loss did not improve for 1 epoch(s).\n",
      "Epoch 6/10, Training Loss: 0.6649, Training Accuracy: 0.7432, Validation Loss: 0.8776, Validation Accuracy: 0.6495\n",
      "Epoch 7/10, Training Loss: 0.6388, Training Accuracy: 0.7575, Validation Loss: 0.8945, Validation Accuracy: 0.6495\n",
      "INFO: Validation loss did not improve for 1 epoch(s).\n",
      "Epoch 8/10, Training Loss: 0.6193, Training Accuracy: 0.7601, Validation Loss: 0.8912, Validation Accuracy: 0.6566\n",
      "INFO: Validation loss did not improve for 2 epoch(s).\n",
      "Epoch 9/10, Training Loss: 0.6012, Training Accuracy: 0.7704, Validation Loss: 0.8893, Validation Accuracy: 0.6655\n",
      "INFO: Validation loss did not improve for 3 epoch(s).\n",
      "Early stopping\n"
     ]
    }
   ],
   "source": [
    "\n",
    "# Usage\n",
    "train_with_early_stopping(model=pretrained_vit,\n",
    "                          train_loader=train_dataloader,\n",
    "                          val_loader=test_dataloader,\n",
    "                          optimizer=optimizer,\n",
    "                          loss_fn=loss_fn,\n",
    "                          epochs=10,\n",
    "                          device=device,\n",
    "                          patience=3)\n"
   ]
  }
 ],
 "metadata": {
  "kernelspec": {
   "display_name": "Python 3",
   "language": "python",
   "name": "python3"
  },
  "language_info": {
   "codemirror_mode": {
    "name": "ipython",
    "version": 3
   },
   "file_extension": ".py",
   "mimetype": "text/x-python",
   "name": "python",
   "nbconvert_exporter": "python",
   "pygments_lexer": "ipython3",
   "version": "3.9.10"
  }
 },
 "nbformat": 4,
 "nbformat_minor": 2
}
